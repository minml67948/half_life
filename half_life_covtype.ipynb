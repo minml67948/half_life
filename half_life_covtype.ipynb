{
  "nbformat": 4,
  "nbformat_minor": 0,
  "metadata": {
    "colab": {
      "provenance": [],
      "toc_visible": true,
      "include_colab_link": true
    },
    "kernelspec": {
      "name": "python3",
      "display_name": "Python 3"
    },
    "language_info": {
      "name": "python"
    },
    "accelerator": "GPU",
    "gpuClass": "standard"
  },
  "cells": [
    {
      "cell_type": "markdown",
      "metadata": {
        "id": "view-in-github",
        "colab_type": "text"
      },
      "source": [
        "<a href=\"https://colab.research.google.com/github/minml67948/half_life_weighted/blob/main/half_life_covtype.ipynb\" target=\"_parent\"><img src=\"https://colab.research.google.com/assets/colab-badge.svg\" alt=\"Open In Colab\"/></a>"
      ]
    },
    {
      "cell_type": "markdown",
      "source": [
        "# まとめ\n",
        "\n",
        "\n"
      ],
      "metadata": {
        "id": "SOpIYvT4Px-7"
      }
    },
    {
      "cell_type": "code",
      "source": [
        "\"\"\"\n",
        "\n",
        "model  :  rmse       :  time\n",
        "----------------------------\n",
        "  hlw  :  0.5803432  :  2h\n",
        "  lgbm :  0.8311869  :  12s\n",
        "  xgb  :  0.72971433 :  12s\n",
        "  rf   :  0.6519643  :  44s\n",
        "\n",
        "next\n",
        "・すべてのモデルを分類問題用に変更\n",
        "・hlwの実行時間の改善\n",
        "\n",
        "\"\"\""
      ],
      "metadata": {
        "id": "JarxUYsKeyhL"
      },
      "execution_count": null,
      "outputs": []
    },
    {
      "cell_type": "markdown",
      "source": [
        "# 半減期加重の実装（回帰）"
      ],
      "metadata": {
        "id": "M5odnNynYIKM"
      }
    },
    {
      "cell_type": "code",
      "execution_count": null,
      "metadata": {
        "id": "j-LdsPslGLbG"
      },
      "outputs": [],
      "source": [
        "import jax.numpy as jnp\n",
        "from jax import jit as jjit\n",
        "from functools import partial\n",
        "from jax import vmap\n",
        "from jax.lax import cond, while_loop\n",
        "\n",
        "############自作モデルの実装##########\n",
        "\n",
        "#誤差を求める関数\n",
        "@partial(jjit)\n",
        "def rmse(y, p):\n",
        "    return jnp.sqrt(((y - p)**2).mean())\n",
        "\n",
        "#予測する関数(１行)\n",
        "@partial(jjit)\n",
        "def predict(row, model_x, model_y, T,replace_value):\n",
        "    t = jnp.abs(model_x - row)\n",
        "    w = (1/2)**(t / T)\n",
        "    w = jnp.prod(w, axis=1)\n",
        "    p = jnp.average(model_y, weights=w)\n",
        "    p = jnp.nan_to_num(p, replace_value)\n",
        "    return p\n",
        "\n",
        "#予測する関数（全行）\n",
        "@partial(jjit)\n",
        "def predict_array(x, model_x, model_y, T,replace_value):\n",
        "    return vmap(lambda row : predict(row, model_x, model_y, T, replace_value))(x)\n",
        "\n",
        "#学習関数modelとtunerを引数で設定する必要がある（ランダムな要素を排除）\n",
        "@partial(jjit)\n",
        "def fit(T, model_x, model_y, tuner_x, tuner_y, replace_value, rate = 0.7):\n",
        "    #初期状態の予測値・誤差・半減期\n",
        "    same_cnt = 0 #精度が改善できなかった連続回数\n",
        "    tuner_p = predict_array(tuner_x, model_x, model_y, T, replace_value)\n",
        "    err = rmse(tuner_y, tuner_p)\n",
        "    i = 0\n",
        "    row,col = model_x.shape\n",
        "    #半減期と学習率の更新\n",
        "    def update_loop(params):\n",
        "        i, err, T, same_cnt = params\n",
        "        err_ex = err\n",
        "        #半減期を縮小\n",
        "        T_ = T.at[i%col].set(T[i%col] * rate)\n",
        "        tuner_p = predict_array(tuner_x, model_x, model_y, T_, replace_value)\n",
        "        err_ = rmse(tuner_y, tuner_p)\n",
        "        err, T = cond(err_ < err, lambda: [err_, T_], lambda: [err, T])\n",
        "        #半減期を拡大\n",
        "        T_ = T.at[i%col].set(T[i%col] / rate)\n",
        "        tuner_p = predict_array(tuner_x, model_x, model_y, T_, replace_value)\n",
        "        err_ = rmse(tuner_y, tuner_p)\n",
        "        err, T  = cond(err_ < err, lambda: [err_, T_], lambda: [err, T])\n",
        "        #連続で改善に失敗した回数を更新\n",
        "        same_cnt =  cond(err_ex == err, lambda: same_cnt+1, lambda: 0)\n",
        "        i+=1\n",
        "        params = [i, err, T, same_cnt]\n",
        "        return params\n",
        "    params = [i, err, T, same_cnt]\n",
        "    params = while_loop(lambda params: params[3] < col, update_loop, params)\n",
        "    [i, err, T, same_cnt] = params\n",
        "    return {\"T\": T, \"err\": err, \"try_cnt\": i+1}"
      ]
    },
    {
      "cell_type": "markdown",
      "source": [
        "#カリフォルニアデータの学習と予測"
      ],
      "metadata": {
        "id": "GA9MXflAYRr1"
      }
    },
    {
      "cell_type": "code",
      "source": [
        "\n",
        "#カリフォルニア住宅価格データをロード\n",
        "import pandas as pd\n",
        "import numpy as np\n",
        "from sklearn.model_selection import train_test_split\n",
        "from sklearn.datasets import fetch_covtype\n",
        "\n",
        "covtype = fetch_covtype()\n",
        "\n",
        "#訓練データと検証データに分割\n",
        "x = covtype.data\n",
        "y = covtype.target\n",
        "X_train, X_test, y_train, y_test = train_test_split(x, y, test_size = 0.1, train_size = 0.1)\n",
        "\n"
      ],
      "metadata": {
        "id": "a4vvIwzeBwsp"
      },
      "execution_count": 23,
      "outputs": []
    },
    {
      "cell_type": "code",
      "source": [
        "X_train.shape"
      ],
      "metadata": {
        "colab": {
          "base_uri": "https://localhost:8080/"
        },
        "id": "qO53-dDtnMSc",
        "outputId": "6bb22e13-74dd-41ea-f982-412b09048485"
      },
      "execution_count": 27,
      "outputs": [
        {
          "output_type": "execute_result",
          "data": {
            "text/plain": [
              "(58101, 54)"
            ]
          },
          "metadata": {},
          "execution_count": 27
        }
      ]
    },
    {
      "cell_type": "markdown",
      "source": [
        "#half life weighted"
      ],
      "metadata": {
        "id": "wpViiiuhZzJU"
      }
    },
    {
      "cell_type": "code",
      "source": [
        "#half_lifeのパラメータ設定\n",
        "model_x, tuner_x, model_y, tuner_y = train_test_split(X_train, y_train, test_size = 0.5, train_size=0.5)\n",
        "T_first = (jnp.max(model_x, axis=0) - jnp.min(model_x, axis=0))/2\n",
        "replace_value = jnp.mean(model_y)\n",
        "\n",
        "#学習\n",
        "result = fit( T_first, model_x, model_y, tuner_x, tuner_y, replace_value)\n",
        "T = result[\"T\"]\n",
        "print(result)\n",
        "\n",
        "#予測\n",
        "p_test = predict_array(X_test,model_x, model_y, T, replace_value)\n",
        "\n",
        "#精度\n",
        "print(\"精度\")\n",
        "print(rmse(y_test,p_test))"
      ],
      "metadata": {
        "colab": {
          "base_uri": "https://localhost:8080/"
        },
        "id": "Er81d3QBLT6Q",
        "outputId": "1f10e911-f5fd-41d4-cd95-f740bd649189"
      },
      "execution_count": 32,
      "outputs": [
        {
          "output_type": "stream",
          "name": "stdout",
          "text": [
            "精度\n",
            "0.5803432\n"
          ]
        }
      ]
    },
    {
      "cell_type": "markdown",
      "source": [
        "#lightGBM"
      ],
      "metadata": {
        "id": "xxGKWMo_Zutp"
      }
    },
    {
      "cell_type": "code",
      "source": [
        "#lightGBM\n",
        "import lightgbm as lgb\n",
        "#学習\n",
        "model = lgb.LGBMRegressor(\n",
        "    random_state = 42,\n",
        ")\n",
        "\n",
        "model.fit(\n",
        "    X_train, \n",
        "    y_train,\n",
        "    eval_set=[(X_test, y_test), (X_train, y_train)],\n",
        "    verbose=-1 # 学習ログを省略\n",
        ")\n",
        "\n",
        "#予測\n",
        "p_lgb = model.predict(X_test)\n",
        "\n",
        "#精度\n",
        "print(\"精度\")\n",
        "print(rmse(y_test,p_lgb))\n",
        "     "
      ],
      "metadata": {
        "colab": {
          "base_uri": "https://localhost:8080/"
        },
        "id": "47QKKRcRZN9V",
        "outputId": "c95ede3b-7b0b-409b-e52a-381f42cc54ef"
      },
      "execution_count": 33,
      "outputs": [
        {
          "output_type": "stream",
          "name": "stderr",
          "text": [
            "/usr/local/lib/python3.10/dist-packages/lightgbm/sklearn.py:736: UserWarning: 'verbose' argument is deprecated and will be removed in a future release of LightGBM. Pass 'log_evaluation()' callback via 'callbacks' argument instead.\n",
            "  _log_warning(\"'verbose' argument is deprecated and will be removed in a future release of LightGBM. \"\n"
          ]
        },
        {
          "output_type": "stream",
          "name": "stdout",
          "text": [
            "精度\n",
            "0.8311869\n"
          ]
        }
      ]
    },
    {
      "cell_type": "markdown",
      "source": [
        "#xgboost"
      ],
      "metadata": {
        "id": "9pB6XUxJZl9A"
      }
    },
    {
      "cell_type": "code",
      "source": [
        "#XGboost\n",
        "import xgboost as xgb\n",
        "#学習\n",
        "xgbX_train, xgbX_test, xgby_train, xgby_test = train_test_split(X_train, y_train, test_size = 0.2)\n",
        "dtrain = xgb.DMatrix(xgbX_train, label=xgby_train)\n",
        "dvalid = xgb.DMatrix(xgbX_test, label=xgby_test)\n",
        "\n",
        "params = {\n",
        "        'objective': 'reg:squarederror','silent':1, 'random_state':1234, \n",
        "        # 学習用の指標 (RMSE)\n",
        "        'eval_metric': 'rmse',\n",
        "    }\n",
        "num_round = 500\n",
        "watchlist = [(dtrain, 'train'), (dvalid, 'eval')]#訓練データはdtrain、評価用のテストデータはdvalidと設定\n",
        "model = xgb.train(\n",
        "    params,\n",
        "    dtrain,#訓練データ\n",
        "    num_round,#設定した学習回数\n",
        "    early_stopping_rounds=20,\n",
        "    evals=watchlist,\n",
        "    verbose_eval=0\n",
        ")\n",
        "\n",
        "#予測\n",
        "dtest = xgb.DMatrix(X_test)\n",
        "p_xgb = model.predict(dtest, ntree_limit = model.best_ntree_limit)\n",
        "\n",
        "#精度\n",
        "print(\"精度\")\n",
        "print(rmse(y_test,p_xgb))"
      ],
      "metadata": {
        "colab": {
          "base_uri": "https://localhost:8080/"
        },
        "id": "zB6bdIU4ZWIB",
        "outputId": "9bc54caa-42df-4ee7-c356-e831cd414501"
      },
      "execution_count": 34,
      "outputs": [
        {
          "output_type": "stream",
          "name": "stdout",
          "text": [
            "[11:54:27] WARNING: ../src/learner.cc:767: \n",
            "Parameters: { \"silent\" } are not used.\n",
            "\n"
          ]
        },
        {
          "output_type": "stream",
          "name": "stderr",
          "text": [
            "/usr/local/lib/python3.10/dist-packages/xgboost/core.py:122: UserWarning: ntree_limit is deprecated, use `iteration_range` or model slicing instead.\n",
            "  warnings.warn(\n"
          ]
        },
        {
          "output_type": "stream",
          "name": "stdout",
          "text": [
            "精度\n",
            "0.72971433\n"
          ]
        }
      ]
    },
    {
      "cell_type": "markdown",
      "source": [
        "#random forest"
      ],
      "metadata": {
        "id": "rARI_aDdZhUH"
      }
    },
    {
      "cell_type": "code",
      "source": [
        "from sklearn.ensemble import RandomForestRegressor\n",
        "#学習\n",
        "clf = RandomForestRegressor(random_state=0)\n",
        "clf.fit(X_train, y_train)\n",
        "\n",
        "#予測\n",
        "p_rf = clf.predict(X_test)\n",
        "\n",
        "#精度\n",
        "print(\"精度\")\n",
        "print(rmse(y_test,p_rf))"
      ],
      "metadata": {
        "colab": {
          "base_uri": "https://localhost:8080/"
        },
        "id": "mIMBARiQZaSI",
        "outputId": "3fcfe969-86fd-47b3-e740-606da72e5bb9"
      },
      "execution_count": 35,
      "outputs": [
        {
          "output_type": "stream",
          "name": "stdout",
          "text": [
            "精度\n",
            "0.6519643\n"
          ]
        }
      ]
    },
    {
      "cell_type": "markdown",
      "source": [
        "#lightBGM ハイパーパラメータチューニング\n"
      ],
      "metadata": {
        "id": "RPShArLM8I9E"
      }
    },
    {
      "cell_type": "markdown",
      "source": [
        "sklearn"
      ],
      "metadata": {
        "id": "2O7AaS9m8RnK"
      }
    },
    {
      "cell_type": "code",
      "source": [
        "import lightgbm as lgb\n",
        "from sklearn.model_selection import RandomizedSearchCV\n",
        "from scipy.stats import randint as sp_randint\n",
        "import numpy as np\n",
        "\n",
        "\n",
        "# モデルの定義\n",
        "gbm = lgb.LGBMRegressor(objective='regression')\n",
        "\n",
        "# ハイパーパラメータの範囲の指定\n",
        "param_dist = {\n",
        "    'learning_rate': np.arange(0.01, 0.1, 0.01),\n",
        "    'n_estimators': sp_randint(50, 200),\n",
        "    'max_depth': sp_randint(3, 15),\n",
        "    'num_leaves': sp_randint(10, 50),\n",
        "    'min_child_samples': sp_randint(5, 30),\n",
        "    'subsample': np.arange(0.5, 1.0, 0.1),\n",
        "    'colsample_bytree': np.arange(0.5, 1.0, 0.1),\n",
        "    'reg_alpha': np.arange(0, 1, 0.1),\n",
        "    'reg_lambda': np.arange(0, 1, 0.1),\n",
        "}\n",
        "\n",
        "# ランダムサーチによるハイパーパラメータのチューニング\n",
        "n_iter_search = 20\n",
        "random_search = RandomizedSearchCV(\n",
        "    gbm, param_distributions=param_dist, n_iter=n_iter_search, cv=5, scoring='neg_mean_squared_error')\n",
        "random_search.fit(X_train, y_train)\n",
        "\n",
        "# 結果の表示\n",
        "print(random_search.best_params_)\n",
        "print(random_search.best_score_)\n",
        "\n",
        "params = random_search.best_params_\n",
        "model = lgb.LGBMRegressor(objective='regression', **params)\n",
        "model.fit(X_train, y_train)\n",
        "y_pred = model.predict(X_test)\n",
        "rmse(y_pred,y_test)"
      ],
      "metadata": {
        "colab": {
          "base_uri": "https://localhost:8080/"
        },
        "id": "B8VC2kA0bjrK",
        "outputId": "63a5199e-a21d-47d1-d35d-ab560280d940"
      },
      "execution_count": null,
      "outputs": [
        {
          "output_type": "stream",
          "name": "stdout",
          "text": [
            "{'colsample_bytree': 0.7999999999999999, 'learning_rate': 0.09, 'max_depth': 6, 'min_child_samples': 28, 'n_estimators': 154, 'num_leaves': 48, 'reg_alpha': 0.2, 'reg_lambda': 0.2, 'subsample': 0.7999999999999999}\n",
            "-0.21426803364911354\n"
          ]
        },
        {
          "output_type": "execute_result",
          "data": {
            "text/plain": [
              "Array(0.45894927, dtype=float32)"
            ]
          },
          "metadata": {},
          "execution_count": 9
        }
      ]
    },
    {
      "cell_type": "markdown",
      "source": [
        "oputuna\n"
      ],
      "metadata": {
        "id": "QJMHJUzx8X5C"
      }
    },
    {
      "cell_type": "code",
      "source": [
        "!pip install optuna"
      ],
      "metadata": {
        "id": "EPS8SgnReUhy"
      },
      "execution_count": null,
      "outputs": []
    },
    {
      "cell_type": "code",
      "source": [
        "import optuna\n",
        "import lightgbm as lgb\n",
        "from sklearn.metrics import mean_squared_error\n",
        "\n",
        "\n",
        "X_train1, X_train2, y_train1, y_train2 = train_test_split(X_train, y_train, test_size=0.2, random_state=42)\n",
        "# 目的関数の定義\n",
        "def objective(trial):\n",
        "    params = {\n",
        "        'objective': 'regression',\n",
        "        'metric': 'rmse',\n",
        "        'verbosity': -1,\n",
        "        'boosting_type': 'gbdt',\n",
        "        'num_leaves': trial.suggest_int('num_leaves', 2, 256),\n",
        "        'min_child_samples': trial.suggest_int('min_child_samples', 5, 100),\n",
        "        'learning_rate': trial.suggest_uniform('learning_rate', 0.01, 0.1),\n",
        "        'max_depth': trial.suggest_int('max_depth', 3, 10),\n",
        "        'reg_alpha': trial.suggest_uniform('reg_alpha', 0.0, 1.0),\n",
        "        'reg_lambda': trial.suggest_uniform('reg_lambda', 0.0, 1.0),\n",
        "        'colsample_bytree': trial.suggest_uniform('colsample_bytree', 0.1, 1.0),\n",
        "        'subsample': trial.suggest_uniform('subsample', 0.1, 1.0),\n",
        "        'n_estimators': trial.suggest_int('n_estimators', 100, 5000)\n",
        "    }\n",
        "    \n",
        "    model = lgb.LGBMRegressor(**params)\n",
        "    model.fit(X_train1, y_train1, eval_set=[(X_train2, y_train2)], early_stopping_rounds=50, verbose=False)\n",
        "    \n",
        "    y_pred = model.predict(X_train2)\n",
        "    mse = mean_squared_error(y_train2, y_pred)\n",
        "    rmse = mse ** 0.5\n",
        "    \n",
        "    return rmse\n",
        "\n",
        "# 最適化の実行\n",
        "study = optuna.create_study(direction='minimize')\n",
        "study.optimize(objective, n_trials=100)\n",
        "\n",
        "# 最適なハイパーパラメータでモデルをトレーニング\n",
        "best_params = study.best_params\n",
        "model = lgb.LGBMRegressor(**best_params)\n",
        "model.fit(X_train1, y_train1, eval_set=[(X_train2, y_train2)], early_stopping_rounds=50, verbose=False)\n",
        "\n",
        "# テストデータの予測\n",
        "y_pred = model.predict(X_test)\n",
        "\n",
        "# 結果の出力\n",
        "print('Best RMSE:', study.best_value)\n",
        "print('Best Parameters:', study.best_params)\n",
        "print('Test RMSE:', mean_squared_error(y_test, y_pred, squared=False))\n"
      ],
      "metadata": {
        "id": "DLeSxYGUeNL8"
      },
      "execution_count": null,
      "outputs": []
    },
    {
      "cell_type": "code",
      "source": [
        "rmse(y_test, y_pred)"
      ],
      "metadata": {
        "colab": {
          "base_uri": "https://localhost:8080/"
        },
        "id": "zlQX38BPhKHl",
        "outputId": "b16e6456-1293-4f24-d82d-6b971ae910fd"
      },
      "execution_count": null,
      "outputs": [
        {
          "output_type": "execute_result",
          "data": {
            "text/plain": [
              "Array(0.44042936, dtype=float32)"
            ]
          },
          "metadata": {},
          "execution_count": 12
        }
      ]
    }
  ]
}